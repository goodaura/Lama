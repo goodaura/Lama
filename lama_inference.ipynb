{
  "nbformat": 4,
  "nbformat_minor": 0,
  "metadata": {
    "colab": {
      "name": "lama-inference.ipynb",
      "provenance": []
    },
    "kernelspec": {
      "name": "python3",
      "display_name": "Python 3"
    },
    "language_info": {
      "name": "python"
    },
    "accelerator": "GPU",
    "widgets": {
      "application/vnd.jupyter.widget-state+json": {
        "65cacfd25df7446a91a573cf05e3c946": {
          "model_module": "@jupyter-widgets/controls",
          "model_name": "VBoxModel",
          "model_module_version": "1.5.0",
          "state": {
            "_view_name": "VBoxView",
            "_dom_classes": [],
            "_model_name": "VBoxModel",
            "_view_module": "@jupyter-widgets/controls",
            "_model_module_version": "1.5.0",
            "_view_count": null,
            "_view_module_version": "1.5.0",
            "box_style": "",
            "layout": "IPY_MODEL_2a7a5692a04a486d96a8c26f433c2e9c",
            "_model_module": "@jupyter-widgets/controls",
            "children": [
              "IPY_MODEL_7264fc29735845a4b5bede7f75693d4c",
              "IPY_MODEL_41a6e515ef2640ff828d78d900ea3dc3",
              "IPY_MODEL_a4f8c8540f004b30a69af5ccbba9a6c0",
              "IPY_MODEL_91d8adba0b834cccbe5aa7782879ca87",
              "IPY_MODEL_0e221620e6f24097ba0edbcbe0e5836b"
            ]
          }
        },
        "2a7a5692a04a486d96a8c26f433c2e9c": {
          "model_module": "@jupyter-widgets/base",
          "model_name": "LayoutModel",
          "model_module_version": "1.2.0",
          "state": {
            "_view_name": "LayoutView",
            "grid_template_rows": null,
            "right": null,
            "justify_content": null,
            "_view_module": "@jupyter-widgets/base",
            "overflow": null,
            "_model_module_version": "1.2.0",
            "_view_count": null,
            "flex_flow": null,
            "width": null,
            "min_width": null,
            "border": null,
            "align_items": null,
            "bottom": null,
            "_model_module": "@jupyter-widgets/base",
            "top": null,
            "grid_column": null,
            "overflow_y": null,
            "overflow_x": null,
            "grid_auto_flow": null,
            "grid_area": null,
            "grid_template_columns": null,
            "flex": null,
            "_model_name": "LayoutModel",
            "justify_items": null,
            "grid_row": null,
            "max_height": null,
            "align_content": null,
            "visibility": null,
            "align_self": null,
            "height": null,
            "min_height": null,
            "padding": null,
            "grid_auto_rows": null,
            "grid_gap": null,
            "max_width": null,
            "order": null,
            "_view_module_version": "1.2.0",
            "grid_template_areas": null,
            "object_position": null,
            "object_fit": null,
            "grid_auto_columns": null,
            "margin": null,
            "display": null,
            "left": null
          }
        },
        "7264fc29735845a4b5bede7f75693d4c": {
          "model_module": "@jupyter-widgets/controls",
          "model_name": "LabelModel",
          "model_module_version": "1.5.0",
          "state": {
            "_view_name": "LabelView",
            "style": "IPY_MODEL_fed0a364622543609d8498d70dadd37a",
            "_dom_classes": [],
            "description": "",
            "_model_name": "LabelModel",
            "placeholder": "​",
            "_view_module": "@jupyter-widgets/controls",
            "_model_module_version": "1.5.0",
            "value": "Upload llama, alpaca or sheep!",
            "_view_count": null,
            "_view_module_version": "1.5.0",
            "description_tooltip": null,
            "_model_module": "@jupyter-widgets/controls",
            "layout": "IPY_MODEL_05223d3587184690b164c89691128b92"
          }
        },
        "41a6e515ef2640ff828d78d900ea3dc3": {
          "model_module": "@jupyter-widgets/controls",
          "model_name": "FileUploadModel",
          "model_module_version": "1.5.0",
          "state": {
            "_view_name": "FileUploadView",
            "_counter": 1,
            "style": "IPY_MODEL_f91993b863b94f069ff7a2fe32285fd0",
            "_dom_classes": [],
            "description": "Upload",
            "multiple": false,
            "_model_name": "FileUploadModel",
            "data": [
              null
            ],
            "button_style": "",
            "_view_module": "@jupyter-widgets/controls",
            "_model_module_version": "1.5.0",
            "accept": "",
            "_view_count": null,
            "disabled": false,
            "_view_module_version": "1.5.0",
            "error": "",
            "description_tooltip": null,
            "metadata": [
              {
                "name": "Снимок экрана 2021-11-27 в 14.46.12.png",
                "type": "image/png",
                "size": 1017176,
                "lastModified": 1638013578004
              }
            ],
            "_model_module": "@jupyter-widgets/controls",
            "layout": "IPY_MODEL_2405d0622ff2467095084f19407eb6c4",
            "icon": "upload"
          }
        },
        "a4f8c8540f004b30a69af5ccbba9a6c0": {
          "model_module": "@jupyter-widgets/controls",
          "model_name": "ButtonModel",
          "model_module_version": "1.5.0",
          "state": {
            "_view_name": "ButtonView",
            "style": "IPY_MODEL_7dfb1e16c155467880fe85079e14fa66",
            "_dom_classes": [],
            "description": "Classify",
            "_model_name": "ButtonModel",
            "button_style": "",
            "_view_module": "@jupyter-widgets/controls",
            "_model_module_version": "1.5.0",
            "tooltip": "",
            "_view_count": null,
            "disabled": false,
            "_view_module_version": "1.5.0",
            "layout": "IPY_MODEL_07620237c1634e5881d22c7d290e34ae",
            "_model_module": "@jupyter-widgets/controls",
            "icon": ""
          }
        },
        "91d8adba0b834cccbe5aa7782879ca87": {
          "model_module": "@jupyter-widgets/output",
          "model_name": "OutputModel",
          "model_module_version": "1.0.0",
          "state": {
            "_view_name": "OutputView",
            "msg_id": "",
            "_dom_classes": [],
            "_model_name": "OutputModel",
            "outputs": [
              {
                "output_type": "display_data",
                "data": {
                  "image/png": "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\n",
                  "text/plain": "<PIL.Image.Image image mode=RGB size=204x224 at 0x7F1056F5AC90>"
                },
                "metadata": {}
              }
            ],
            "_view_module": "@jupyter-widgets/output",
            "_model_module_version": "1.0.0",
            "_view_count": null,
            "_view_module_version": "1.0.0",
            "layout": "IPY_MODEL_131fae78c6ef40fc8598391a2cb1ab56",
            "_model_module": "@jupyter-widgets/output"
          }
        },
        "0e221620e6f24097ba0edbcbe0e5836b": {
          "model_module": "@jupyter-widgets/controls",
          "model_name": "LabelModel",
          "model_module_version": "1.5.0",
          "state": {
            "_view_name": "LabelView",
            "style": "IPY_MODEL_48d099e5d1ac44e889f08d6fc5e9081b",
            "_dom_classes": [],
            "description": "",
            "_model_name": "LabelModel",
            "placeholder": "​",
            "_view_module": "@jupyter-widgets/controls",
            "_model_module_version": "1.5.0",
            "value": "Prediction: lama_animal; Probability: 1.0000",
            "_view_count": null,
            "_view_module_version": "1.5.0",
            "description_tooltip": null,
            "_model_module": "@jupyter-widgets/controls",
            "layout": "IPY_MODEL_26bb713ec28742d08e0fef883582e6cc"
          }
        },
        "fed0a364622543609d8498d70dadd37a": {
          "model_module": "@jupyter-widgets/controls",
          "model_name": "DescriptionStyleModel",
          "model_module_version": "1.5.0",
          "state": {
            "_view_name": "StyleView",
            "_model_name": "DescriptionStyleModel",
            "description_width": "",
            "_view_module": "@jupyter-widgets/base",
            "_model_module_version": "1.5.0",
            "_view_count": null,
            "_view_module_version": "1.2.0",
            "_model_module": "@jupyter-widgets/controls"
          }
        },
        "05223d3587184690b164c89691128b92": {
          "model_module": "@jupyter-widgets/base",
          "model_name": "LayoutModel",
          "model_module_version": "1.2.0",
          "state": {
            "_view_name": "LayoutView",
            "grid_template_rows": null,
            "right": null,
            "justify_content": null,
            "_view_module": "@jupyter-widgets/base",
            "overflow": null,
            "_model_module_version": "1.2.0",
            "_view_count": null,
            "flex_flow": null,
            "width": null,
            "min_width": null,
            "border": null,
            "align_items": null,
            "bottom": null,
            "_model_module": "@jupyter-widgets/base",
            "top": null,
            "grid_column": null,
            "overflow_y": null,
            "overflow_x": null,
            "grid_auto_flow": null,
            "grid_area": null,
            "grid_template_columns": null,
            "flex": null,
            "_model_name": "LayoutModel",
            "justify_items": null,
            "grid_row": null,
            "max_height": null,
            "align_content": null,
            "visibility": null,
            "align_self": null,
            "height": null,
            "min_height": null,
            "padding": null,
            "grid_auto_rows": null,
            "grid_gap": null,
            "max_width": null,
            "order": null,
            "_view_module_version": "1.2.0",
            "grid_template_areas": null,
            "object_position": null,
            "object_fit": null,
            "grid_auto_columns": null,
            "margin": null,
            "display": null,
            "left": null
          }
        },
        "f91993b863b94f069ff7a2fe32285fd0": {
          "model_module": "@jupyter-widgets/controls",
          "model_name": "ButtonStyleModel",
          "model_module_version": "1.5.0",
          "state": {
            "_view_name": "StyleView",
            "_model_name": "ButtonStyleModel",
            "_view_module": "@jupyter-widgets/base",
            "_model_module_version": "1.5.0",
            "_view_count": null,
            "button_color": null,
            "font_weight": "",
            "_view_module_version": "1.2.0",
            "_model_module": "@jupyter-widgets/controls"
          }
        },
        "2405d0622ff2467095084f19407eb6c4": {
          "model_module": "@jupyter-widgets/base",
          "model_name": "LayoutModel",
          "model_module_version": "1.2.0",
          "state": {
            "_view_name": "LayoutView",
            "grid_template_rows": null,
            "right": null,
            "justify_content": null,
            "_view_module": "@jupyter-widgets/base",
            "overflow": null,
            "_model_module_version": "1.2.0",
            "_view_count": null,
            "flex_flow": null,
            "width": null,
            "min_width": null,
            "border": null,
            "align_items": null,
            "bottom": null,
            "_model_module": "@jupyter-widgets/base",
            "top": null,
            "grid_column": null,
            "overflow_y": null,
            "overflow_x": null,
            "grid_auto_flow": null,
            "grid_area": null,
            "grid_template_columns": null,
            "flex": null,
            "_model_name": "LayoutModel",
            "justify_items": null,
            "grid_row": null,
            "max_height": null,
            "align_content": null,
            "visibility": null,
            "align_self": null,
            "height": null,
            "min_height": null,
            "padding": null,
            "grid_auto_rows": null,
            "grid_gap": null,
            "max_width": null,
            "order": null,
            "_view_module_version": "1.2.0",
            "grid_template_areas": null,
            "object_position": null,
            "object_fit": null,
            "grid_auto_columns": null,
            "margin": null,
            "display": null,
            "left": null
          }
        },
        "7dfb1e16c155467880fe85079e14fa66": {
          "model_module": "@jupyter-widgets/controls",
          "model_name": "ButtonStyleModel",
          "model_module_version": "1.5.0",
          "state": {
            "_view_name": "StyleView",
            "_model_name": "ButtonStyleModel",
            "_view_module": "@jupyter-widgets/base",
            "_model_module_version": "1.5.0",
            "_view_count": null,
            "button_color": null,
            "font_weight": "",
            "_view_module_version": "1.2.0",
            "_model_module": "@jupyter-widgets/controls"
          }
        },
        "07620237c1634e5881d22c7d290e34ae": {
          "model_module": "@jupyter-widgets/base",
          "model_name": "LayoutModel",
          "model_module_version": "1.2.0",
          "state": {
            "_view_name": "LayoutView",
            "grid_template_rows": null,
            "right": null,
            "justify_content": null,
            "_view_module": "@jupyter-widgets/base",
            "overflow": null,
            "_model_module_version": "1.2.0",
            "_view_count": null,
            "flex_flow": null,
            "width": null,
            "min_width": null,
            "border": null,
            "align_items": null,
            "bottom": null,
            "_model_module": "@jupyter-widgets/base",
            "top": null,
            "grid_column": null,
            "overflow_y": null,
            "overflow_x": null,
            "grid_auto_flow": null,
            "grid_area": null,
            "grid_template_columns": null,
            "flex": null,
            "_model_name": "LayoutModel",
            "justify_items": null,
            "grid_row": null,
            "max_height": null,
            "align_content": null,
            "visibility": null,
            "align_self": null,
            "height": null,
            "min_height": null,
            "padding": null,
            "grid_auto_rows": null,
            "grid_gap": null,
            "max_width": null,
            "order": null,
            "_view_module_version": "1.2.0",
            "grid_template_areas": null,
            "object_position": null,
            "object_fit": null,
            "grid_auto_columns": null,
            "margin": null,
            "display": null,
            "left": null
          }
        },
        "48d099e5d1ac44e889f08d6fc5e9081b": {
          "model_module": "@jupyter-widgets/controls",
          "model_name": "DescriptionStyleModel",
          "model_module_version": "1.5.0",
          "state": {
            "_view_name": "StyleView",
            "_model_name": "DescriptionStyleModel",
            "description_width": "",
            "_view_module": "@jupyter-widgets/base",
            "_model_module_version": "1.5.0",
            "_view_count": null,
            "_view_module_version": "1.2.0",
            "_model_module": "@jupyter-widgets/controls"
          }
        },
        "26bb713ec28742d08e0fef883582e6cc": {
          "model_module": "@jupyter-widgets/base",
          "model_name": "LayoutModel",
          "model_module_version": "1.2.0",
          "state": {
            "_view_name": "LayoutView",
            "grid_template_rows": null,
            "right": null,
            "justify_content": null,
            "_view_module": "@jupyter-widgets/base",
            "overflow": null,
            "_model_module_version": "1.2.0",
            "_view_count": null,
            "flex_flow": null,
            "width": null,
            "min_width": null,
            "border": null,
            "align_items": null,
            "bottom": null,
            "_model_module": "@jupyter-widgets/base",
            "top": null,
            "grid_column": null,
            "overflow_y": null,
            "overflow_x": null,
            "grid_auto_flow": null,
            "grid_area": null,
            "grid_template_columns": null,
            "flex": null,
            "_model_name": "LayoutModel",
            "justify_items": null,
            "grid_row": null,
            "max_height": null,
            "align_content": null,
            "visibility": null,
            "align_self": null,
            "height": null,
            "min_height": null,
            "padding": null,
            "grid_auto_rows": null,
            "grid_gap": null,
            "max_width": null,
            "order": null,
            "_view_module_version": "1.2.0",
            "grid_template_areas": null,
            "object_position": null,
            "object_fit": null,
            "grid_auto_columns": null,
            "margin": null,
            "display": null,
            "left": null
          }
        },
        "131fae78c6ef40fc8598391a2cb1ab56": {
          "model_module": "@jupyter-widgets/base",
          "model_name": "LayoutModel",
          "model_module_version": "1.2.0",
          "state": {
            "_view_name": "LayoutView",
            "grid_template_rows": null,
            "right": null,
            "justify_content": null,
            "_view_module": "@jupyter-widgets/base",
            "overflow": null,
            "_model_module_version": "1.2.0",
            "_view_count": null,
            "flex_flow": null,
            "width": null,
            "min_width": null,
            "border": null,
            "align_items": null,
            "bottom": null,
            "_model_module": "@jupyter-widgets/base",
            "top": null,
            "grid_column": null,
            "overflow_y": null,
            "overflow_x": null,
            "grid_auto_flow": null,
            "grid_area": null,
            "grid_template_columns": null,
            "flex": null,
            "_model_name": "LayoutModel",
            "justify_items": null,
            "grid_row": null,
            "max_height": null,
            "align_content": null,
            "visibility": null,
            "align_self": null,
            "height": null,
            "min_height": null,
            "padding": null,
            "grid_auto_rows": null,
            "grid_gap": null,
            "max_width": null,
            "order": null,
            "_view_module_version": "1.2.0",
            "grid_template_areas": null,
            "object_position": null,
            "object_fit": null,
            "grid_auto_columns": null,
            "margin": null,
            "display": null,
            "left": null
          }
        }
      }
    }
  },
  "cells": [
    {
      "cell_type": "code",
      "metadata": {
        "colab": {
          "base_uri": "https://localhost:8080/"
        },
        "id": "CuHt3Luvrqwp",
        "outputId": "f9a955bc-e7ae-43c8-c700-520a9d39fc17"
      },
      "source": [
        "\n",
        "\n",
        "MODEL_PATH = 'export.pkl'\n",
        "\n"
      ],
      "execution_count": 2,
      "outputs": [
        {
          "output_type": "stream",
          "name": "stdout",
          "text": [
            "Mounted at /content/drive\n"
          ]
        }
      ]
    },
    {
      "cell_type": "code",
      "metadata": {
        "id": "KFXRc5dqr8q1"
      },
      "source": [
        "from fastai.vision.all import *\n",
        "from fastai.vision.widgets import *\n",
        "\n",
        "learn_inf = load_learner(MODEL_PATH)"
      ],
      "execution_count": 3,
      "outputs": []
    },
    {
      "cell_type": "code",
      "metadata": {
        "id": "fyDNXh5usCih"
      },
      "source": [
        "btn_upload = widgets.FileUpload()\n",
        "out_pl = widgets.Output()\n",
        "out_pl.clear_output()\n",
        "lbl_pred = widgets.Label()\n",
        "btn_run = widgets.Button(description='Classify')"
      ],
      "execution_count": 4,
      "outputs": []
    },
    {
      "cell_type": "code",
      "metadata": {
        "id": "_xJwx0GIsGbF"
      },
      "source": [
        "def on_click_classify(change):\n",
        "    img = PILImage.create(btn_upload.data[-1])\n",
        "    out_pl.clear_output()\n",
        "    with out_pl: display(img.to_thumb(224,224))\n",
        "    pred,pred_idx,probs = learn_inf.predict(img)\n",
        "    lbl_pred.value = f'Prediction: {pred}; Probability: {probs[pred_idx]:.04f}'\n",
        "\n",
        "btn_run.on_click(on_click_classify)"
      ],
      "execution_count": 5,
      "outputs": []
    },
    {
      "cell_type": "code",
      "metadata": {
        "colab": {
          "base_uri": "https://localhost:8080/",
          "height": 369,
          "referenced_widgets": [
            "65cacfd25df7446a91a573cf05e3c946",
            "2a7a5692a04a486d96a8c26f433c2e9c",
            "7264fc29735845a4b5bede7f75693d4c",
            "41a6e515ef2640ff828d78d900ea3dc3",
            "a4f8c8540f004b30a69af5ccbba9a6c0",
            "91d8adba0b834cccbe5aa7782879ca87",
            "0e221620e6f24097ba0edbcbe0e5836b",
            "fed0a364622543609d8498d70dadd37a",
            "05223d3587184690b164c89691128b92",
            "f91993b863b94f069ff7a2fe32285fd0",
            "2405d0622ff2467095084f19407eb6c4",
            "7dfb1e16c155467880fe85079e14fa66",
            "07620237c1634e5881d22c7d290e34ae",
            "48d099e5d1ac44e889f08d6fc5e9081b",
            "26bb713ec28742d08e0fef883582e6cc",
            "131fae78c6ef40fc8598391a2cb1ab56"
          ]
        },
        "id": "_yiD70mTsTKh",
        "outputId": "7b36fb7e-dd7e-404a-fd27-454ab6515e90"
      },
      "source": [
        "VBox([widgets.Label('Upload llama, alpaca or sheep!'), btn_upload, btn_run, out_pl, lbl_pred])"
      ],
      "execution_count": 6,
      "outputs": [
        {
          "output_type": "display_data",
          "data": {
            "application/vnd.jupyter.widget-view+json": {
              "model_id": "65cacfd25df7446a91a573cf05e3c946",
              "version_minor": 0,
              "version_major": 2
            },
            "text/plain": [
              "VBox(children=(Label(value='Upload llama, alpaca or sheep!'), FileUpload(value={}, description='Upload'), Butt…"
            ]
          },
          "metadata": {}
        },
        {
          "output_type": "display_data",
          "data": {
            "text/html": [
              ""
            ],
            "text/plain": [
              "<IPython.core.display.HTML object>"
            ]
          },
          "metadata": {}
        }
      ]
    }
  ]
}